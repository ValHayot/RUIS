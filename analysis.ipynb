{
 "cells": [
  {
   "cell_type": "code",
   "execution_count": 184,
   "metadata": {},
   "outputs": [],
   "source": [
    "import numpy as np\n",
    "import pandas as pd\n",
    "import re"
   ]
  },
  {
   "cell_type": "code",
   "execution_count": 185,
   "metadata": {},
   "outputs": [],
   "source": [
    "def analysis(nfs, app):\n",
    "    print(\"\"\"\n",
    "====================\n",
    "    CPU Analysis\n",
    "====================\"\"\")\n",
    "    \n",
    "    df_cpu = pd.read_csv(\"{}-{}.cpu.csv\".format(nfs, app), skiprows=14)\n",
    "    df_dsk = pd.read_csv(\"{}-{}.dsk.csv\".format(nfs, app), skiprows=14)\n",
    "    df_numa = pd.read_csv(\"{}-{}.numa.csv\".format(nfs, app), skiprows=14)\n",
    "    df_tab = pd.read_csv(\"{}-{}.tab.csv\".format(nfs, app), skiprows=14)\n",
    "\n",
    "    df_cpu[\"Timestamp\"] = pd.to_datetime(df_cpu[\"#Date\"].map(str) + \"-\" + df_cpu[\"Time\"], format=\"%Y%m%d-%H:%M:%S.%f\")\n",
    "    interval_time = df_cpu[\"Timestamp\"][1] - df_cpu[\"Timestamp\"][0]\n",
    "    n_cpu = (len(df_cpu.columns) - 2) // 12\n",
    "    cpus = [f\"[CPU:{i}]\" for i in range(n_cpu)]\n",
    "    total_cpu = df_cpu[map(lambda x: x+\"Totl%\", cpus)]\n",
    "\n",
    "    print(\n",
    "        \"Total CPU time [seconds]:\\n\",\n",
    "        ((total_cpu >= 10 * 1).values.sum() * interval_time) / np.timedelta64(1, 's')\n",
    "    )\n",
    "\n",
    "    print(\n",
    "        \"Parallel CPU time [seconds]:\\n\", \n",
    "        (sum([1 for row in (total_cpu >= 10 * 1).values if any(row)]) * interval_time) / np.timedelta64(1, 's')\n",
    "    )\n",
    "\n",
    "\n",
    "    print(\n",
    "        \"Makes span [seconds]:\\n\",\n",
    "        (df_cpu[\"Timestamp\"][len(df_cpu[\"Timestamp\"])-1] - df_cpu[\"Timestamp\"][0]) / np.timedelta64(1, 's')\n",
    "    )\n",
    "\n",
    "    print(\"\"\"\n",
    "====================\n",
    "    I/O Analysis\n",
    "====================\"\"\")\n",
    "    \n",
    "    df_cpu = pd.read_csv(\"{}-{}.cpu.csv\".format(nfs, app), skiprows=14)\n",
    "    df_dsk = pd.read_csv(\"{}-{}.dsk.csv\".format(nfs, app), skiprows=14)\n",
    "    df_numa = pd.read_csv(\"{}-{}.numa.csv\".format(nfs, app), skiprows=14)\n",
    "    df_tab = pd.read_csv(\"{}-{}.tab.csv\".format(nfs, app), skiprows=14)\n",
    "\n",
    "    df_cpu[\"Timestamp\"] = pd.to_datetime(df_cpu[\"#Date\"].map(str) + \"-\" + df_cpu[\"Time\"], format=\"%Y%m%d-%H:%M:%S.%f\")\n",
    "    interval_time = df_cpu[\"Timestamp\"][1] - df_cpu[\"Timestamp\"][0]\n",
    "\n",
    "#     return df_tab\n",
    "    if nfs == 'server':\n",
    "        rw = df_dsk[['[DSK:vdc]RKBytes', '[DSK:vdc]WKBytes']]\n",
    "        \n",
    "    elif nfs == \"client\":\n",
    "        rw = df_tab[['[NET]RxKBTot', '[NET]TxKBTot']]\n",
    "       \n",
    "    data_transfer = rw.sum(axis=0) / 1024\n",
    "    print(\n",
    "        'Data transefered [MB]:\\n',\n",
    "        data_transfer,\n",
    "        data_transfer.sum()\n",
    "    ) \n",
    "    print(\n",
    "        'Total I/O time [seconds]:\\n', \n",
    "        (rw.mask(rw > 0, 1).sum().sum()  * interval_time) / np.timedelta64(1, 's')\n",
    "    )\n",
    "    print(\n",
    "        'Parallel I/O time [seconds]:\\n',\n",
    "        (sum([1 for row in (rw != 0).values if any(row)]) * interval_time) / np.timedelta64(1, 's')\n",
    "    )\n",
    "        \n",
    "\n",
    "    "
   ]
  },
  {
   "cell_type": "code",
   "execution_count": 186,
   "metadata": {},
   "outputs": [
    {
     "name": "stdout",
     "output_type": "stream",
     "text": [
      "\n",
      "====================\n",
      "    CPU Analysis\n",
      "====================\n",
      "Total CPU time [seconds]:\n",
      " 896.0\n",
      "Parallel CPU time [seconds]:\n",
      " 852.0\n",
      "Makes span [seconds]:\n",
      " 885.0\n",
      "\n",
      "====================\n",
      "    I/O Analysis\n",
      "====================\n",
      "Data transefered [MB]:\n",
      " [DSK:vdc]RKBytes    2527.796875\n",
      "[DSK:vdc]WKBytes     462.996094\n",
      "dtype: float64 2990.79296875\n",
      "Total I/O time [seconds]:\n",
      " 587.0\n",
      "Parallel I/O time [seconds]:\n",
      " 397.0\n"
     ]
    }
   ],
   "source": [
    "analysis('server', 'example')"
   ]
  },
  {
   "cell_type": "code",
   "execution_count": 187,
   "metadata": {},
   "outputs": [
    {
     "name": "stdout",
     "output_type": "stream",
     "text": [
      "\n",
      "====================\n",
      "    CPU Analysis\n",
      "====================\n",
      "Total CPU time [seconds]:\n",
      " 888.0\n",
      "Parallel CPU time [seconds]:\n",
      " 888.0\n",
      "Makes span [seconds]:\n",
      " 889.001\n",
      "\n",
      "====================\n",
      "    I/O Analysis\n",
      "====================\n",
      "Data transefered [MB]:\n",
      " [NET]RxKBTot    2521.138672\n",
      "[NET]TxKBTot     468.042969\n",
      "dtype: float64 2989.181640625\n",
      "Total I/O time [seconds]:\n",
      " 895.0\n",
      "Parallel I/O time [seconds]:\n",
      " 448.0\n"
     ]
    }
   ],
   "source": [
    "analysis('client', 'example')"
   ]
  },
  {
   "cell_type": "code",
   "execution_count": null,
   "metadata": {},
   "outputs": [],
   "source": []
  }
 ],
 "metadata": {
  "kernelspec": {
   "display_name": "Python 3",
   "language": "python",
   "name": "python3"
  },
  "language_info": {
   "codemirror_mode": {
    "name": "ipython",
    "version": 3
   },
   "file_extension": ".py",
   "mimetype": "text/x-python",
   "name": "python",
   "nbconvert_exporter": "python",
   "pygments_lexer": "ipython3",
   "version": "3.8.0rc1+"
  }
 },
 "nbformat": 4,
 "nbformat_minor": 4
}
